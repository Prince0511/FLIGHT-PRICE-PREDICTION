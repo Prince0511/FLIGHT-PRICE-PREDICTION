{
 "cells": [
  {
   "cell_type": "code",
   "execution_count": 1,
   "id": "cc60d8a4",
   "metadata": {},
   "outputs": [],
   "source": [
    "#Importing libraries\n",
    "\n",
    "import numpy as np\n",
    "import pandas as pd\n",
    "get_ipython().run_line_magic('matplotlib', 'inline')\n",
    "import matplotlib.pyplot as plt\n",
    "import seaborn as sns\n",
    "color = sns.color_palette()\n",
    "sns.set_style('darkgrid')\n",
    "from scipy import stats\n",
    "from scipy.stats import norm, skew\n",
    "from sklearn.linear_model import LinearRegression\n",
    "from sklearn.model_selection import KFold, cross_val_score\n",
    "from sklearn.model_selection import cross_val_predict\n",
    "from sklearn.preprocessing import RobustScaler\n",
    "from sklearn.pipeline import make_pipeline"
   ]
  },
  {
   "cell_type": "code",
   "execution_count": 2,
   "id": "f32b1770",
   "metadata": {},
   "outputs": [],
   "source": [
    "#Importing Data\n",
    "\n",
    "train_df = pd.read_excel(\"C:/Users/kheni/Downloads/Train_set.xlsx\")\n",
    "test_df = pd.read_excel(\"C:/Users/kheni/Downloads/Test_set.xlsx\")"
   ]
  },
  {
   "cell_type": "code",
   "execution_count": 3,
   "id": "12a0c2a8",
   "metadata": {},
   "outputs": [
    {
     "name": "stderr",
     "output_type": "stream",
     "text": [
      "C:\\Users\\kheni\\AppData\\Local\\Temp\\ipykernel_12516\\744722857.py:3: FutureWarning: The frame.append method is deprecated and will be removed from pandas in a future version. Use pandas.concat instead.\n",
      "  big_df = train_df.append(test_df)\n"
     ]
    }
   ],
   "source": [
    "#Combining Train and Test Data\n",
    "\n",
    "big_df = train_df.append(test_df)"
   ]
  },
  {
   "cell_type": "code",
   "execution_count": 4,
   "id": "5b628350",
   "metadata": {},
   "outputs": [
    {
     "data": {
      "text/html": [
       "<div>\n",
       "<style scoped>\n",
       "    .dataframe tbody tr th:only-of-type {\n",
       "        vertical-align: middle;\n",
       "    }\n",
       "\n",
       "    .dataframe tbody tr th {\n",
       "        vertical-align: top;\n",
       "    }\n",
       "\n",
       "    .dataframe thead th {\n",
       "        text-align: right;\n",
       "    }\n",
       "</style>\n",
       "<table border=\"1\" class=\"dataframe\">\n",
       "  <thead>\n",
       "    <tr style=\"text-align: right;\">\n",
       "      <th></th>\n",
       "      <th>Airline</th>\n",
       "      <th>Date_of_Journey</th>\n",
       "      <th>Source</th>\n",
       "      <th>Destination</th>\n",
       "      <th>Route</th>\n",
       "      <th>Dep_Time</th>\n",
       "      <th>Arrival_Time</th>\n",
       "      <th>Duration</th>\n",
       "      <th>Total_Stops</th>\n",
       "      <th>Additional_Info</th>\n",
       "      <th>Price</th>\n",
       "    </tr>\n",
       "  </thead>\n",
       "  <tbody>\n",
       "    <tr>\n",
       "      <th>0</th>\n",
       "      <td>IndiGo</td>\n",
       "      <td>24/03/2019</td>\n",
       "      <td>Banglore</td>\n",
       "      <td>New Delhi</td>\n",
       "      <td>BLR → DEL</td>\n",
       "      <td>22:20</td>\n",
       "      <td>01:10 22 Mar</td>\n",
       "      <td>2h 50m</td>\n",
       "      <td>non-stop</td>\n",
       "      <td>No info</td>\n",
       "      <td>3897.0</td>\n",
       "    </tr>\n",
       "    <tr>\n",
       "      <th>1</th>\n",
       "      <td>Air India</td>\n",
       "      <td>1/05/2019</td>\n",
       "      <td>Kolkata</td>\n",
       "      <td>Banglore</td>\n",
       "      <td>CCU → IXR → BBI → BLR</td>\n",
       "      <td>05:50</td>\n",
       "      <td>13:15</td>\n",
       "      <td>7h 25m</td>\n",
       "      <td>2 stops</td>\n",
       "      <td>No info</td>\n",
       "      <td>7662.0</td>\n",
       "    </tr>\n",
       "    <tr>\n",
       "      <th>2</th>\n",
       "      <td>Jet Airways</td>\n",
       "      <td>9/06/2019</td>\n",
       "      <td>Delhi</td>\n",
       "      <td>Cochin</td>\n",
       "      <td>DEL → LKO → BOM → COK</td>\n",
       "      <td>09:25</td>\n",
       "      <td>04:25 10 Jun</td>\n",
       "      <td>19h</td>\n",
       "      <td>2 stops</td>\n",
       "      <td>No info</td>\n",
       "      <td>13882.0</td>\n",
       "    </tr>\n",
       "    <tr>\n",
       "      <th>3</th>\n",
       "      <td>IndiGo</td>\n",
       "      <td>12/05/2019</td>\n",
       "      <td>Kolkata</td>\n",
       "      <td>Banglore</td>\n",
       "      <td>CCU → NAG → BLR</td>\n",
       "      <td>18:05</td>\n",
       "      <td>23:30</td>\n",
       "      <td>5h 25m</td>\n",
       "      <td>1 stop</td>\n",
       "      <td>No info</td>\n",
       "      <td>6218.0</td>\n",
       "    </tr>\n",
       "    <tr>\n",
       "      <th>4</th>\n",
       "      <td>IndiGo</td>\n",
       "      <td>01/03/2019</td>\n",
       "      <td>Banglore</td>\n",
       "      <td>New Delhi</td>\n",
       "      <td>BLR → NAG → DEL</td>\n",
       "      <td>16:50</td>\n",
       "      <td>21:35</td>\n",
       "      <td>4h 45m</td>\n",
       "      <td>1 stop</td>\n",
       "      <td>No info</td>\n",
       "      <td>13302.0</td>\n",
       "    </tr>\n",
       "    <tr>\n",
       "      <th>...</th>\n",
       "      <td>...</td>\n",
       "      <td>...</td>\n",
       "      <td>...</td>\n",
       "      <td>...</td>\n",
       "      <td>...</td>\n",
       "      <td>...</td>\n",
       "      <td>...</td>\n",
       "      <td>...</td>\n",
       "      <td>...</td>\n",
       "      <td>...</td>\n",
       "      <td>...</td>\n",
       "    </tr>\n",
       "    <tr>\n",
       "      <th>2666</th>\n",
       "      <td>Air India</td>\n",
       "      <td>6/06/2019</td>\n",
       "      <td>Kolkata</td>\n",
       "      <td>Banglore</td>\n",
       "      <td>CCU → DEL → BLR</td>\n",
       "      <td>20:30</td>\n",
       "      <td>20:25 07 Jun</td>\n",
       "      <td>23h 55m</td>\n",
       "      <td>1 stop</td>\n",
       "      <td>No info</td>\n",
       "      <td>NaN</td>\n",
       "    </tr>\n",
       "    <tr>\n",
       "      <th>2667</th>\n",
       "      <td>IndiGo</td>\n",
       "      <td>27/03/2019</td>\n",
       "      <td>Kolkata</td>\n",
       "      <td>Banglore</td>\n",
       "      <td>CCU → BLR</td>\n",
       "      <td>14:20</td>\n",
       "      <td>16:55</td>\n",
       "      <td>2h 35m</td>\n",
       "      <td>non-stop</td>\n",
       "      <td>No info</td>\n",
       "      <td>NaN</td>\n",
       "    </tr>\n",
       "    <tr>\n",
       "      <th>2668</th>\n",
       "      <td>Jet Airways</td>\n",
       "      <td>6/03/2019</td>\n",
       "      <td>Delhi</td>\n",
       "      <td>Cochin</td>\n",
       "      <td>DEL → BOM → COK</td>\n",
       "      <td>21:50</td>\n",
       "      <td>04:25 07 Mar</td>\n",
       "      <td>6h 35m</td>\n",
       "      <td>1 stop</td>\n",
       "      <td>No info</td>\n",
       "      <td>NaN</td>\n",
       "    </tr>\n",
       "    <tr>\n",
       "      <th>2669</th>\n",
       "      <td>Air India</td>\n",
       "      <td>6/03/2019</td>\n",
       "      <td>Delhi</td>\n",
       "      <td>Cochin</td>\n",
       "      <td>DEL → BOM → COK</td>\n",
       "      <td>04:00</td>\n",
       "      <td>19:15</td>\n",
       "      <td>15h 15m</td>\n",
       "      <td>1 stop</td>\n",
       "      <td>No info</td>\n",
       "      <td>NaN</td>\n",
       "    </tr>\n",
       "    <tr>\n",
       "      <th>2670</th>\n",
       "      <td>Multiple carriers</td>\n",
       "      <td>15/06/2019</td>\n",
       "      <td>Delhi</td>\n",
       "      <td>Cochin</td>\n",
       "      <td>DEL → BOM → COK</td>\n",
       "      <td>04:55</td>\n",
       "      <td>19:15</td>\n",
       "      <td>14h 20m</td>\n",
       "      <td>1 stop</td>\n",
       "      <td>No info</td>\n",
       "      <td>NaN</td>\n",
       "    </tr>\n",
       "  </tbody>\n",
       "</table>\n",
       "<p>13354 rows × 11 columns</p>\n",
       "</div>"
      ],
      "text/plain": [
       "                Airline Date_of_Journey    Source Destination  \\\n",
       "0                IndiGo      24/03/2019  Banglore   New Delhi   \n",
       "1             Air India       1/05/2019   Kolkata    Banglore   \n",
       "2           Jet Airways       9/06/2019     Delhi      Cochin   \n",
       "3                IndiGo      12/05/2019   Kolkata    Banglore   \n",
       "4                IndiGo      01/03/2019  Banglore   New Delhi   \n",
       "...                 ...             ...       ...         ...   \n",
       "2666          Air India       6/06/2019   Kolkata    Banglore   \n",
       "2667             IndiGo      27/03/2019   Kolkata    Banglore   \n",
       "2668        Jet Airways       6/03/2019     Delhi      Cochin   \n",
       "2669          Air India       6/03/2019     Delhi      Cochin   \n",
       "2670  Multiple carriers      15/06/2019     Delhi      Cochin   \n",
       "\n",
       "                      Route Dep_Time  Arrival_Time Duration Total_Stops  \\\n",
       "0                 BLR → DEL    22:20  01:10 22 Mar   2h 50m    non-stop   \n",
       "1     CCU → IXR → BBI → BLR    05:50         13:15   7h 25m     2 stops   \n",
       "2     DEL → LKO → BOM → COK    09:25  04:25 10 Jun      19h     2 stops   \n",
       "3           CCU → NAG → BLR    18:05         23:30   5h 25m      1 stop   \n",
       "4           BLR → NAG → DEL    16:50         21:35   4h 45m      1 stop   \n",
       "...                     ...      ...           ...      ...         ...   \n",
       "2666        CCU → DEL → BLR    20:30  20:25 07 Jun  23h 55m      1 stop   \n",
       "2667              CCU → BLR    14:20         16:55   2h 35m    non-stop   \n",
       "2668        DEL → BOM → COK    21:50  04:25 07 Mar   6h 35m      1 stop   \n",
       "2669        DEL → BOM → COK    04:00         19:15  15h 15m      1 stop   \n",
       "2670        DEL → BOM → COK    04:55         19:15  14h 20m      1 stop   \n",
       "\n",
       "     Additional_Info    Price  \n",
       "0            No info   3897.0  \n",
       "1            No info   7662.0  \n",
       "2            No info  13882.0  \n",
       "3            No info   6218.0  \n",
       "4            No info  13302.0  \n",
       "...              ...      ...  \n",
       "2666         No info      NaN  \n",
       "2667         No info      NaN  \n",
       "2668         No info      NaN  \n",
       "2669         No info      NaN  \n",
       "2670         No info      NaN  \n",
       "\n",
       "[13354 rows x 11 columns]"
      ]
     },
     "execution_count": 4,
     "metadata": {},
     "output_type": "execute_result"
    }
   ],
   "source": [
    "#Printing out the data\n",
    "\n",
    "big_df"
   ]
  },
  {
   "cell_type": "code",
   "execution_count": 5,
   "id": "58c999d6",
   "metadata": {},
   "outputs": [
    {
     "data": {
      "text/plain": [
       "Airline             object\n",
       "Date_of_Journey     object\n",
       "Source              object\n",
       "Destination         object\n",
       "Route               object\n",
       "Dep_Time            object\n",
       "Arrival_Time        object\n",
       "Duration            object\n",
       "Total_Stops         object\n",
       "Additional_Info     object\n",
       "Price              float64\n",
       "dtype: object"
      ]
     },
     "execution_count": 5,
     "metadata": {},
     "output_type": "execute_result"
    }
   ],
   "source": [
    "#Checking the data types of each column\n",
    "\n",
    "big_df.dtypes"
   ]
  },
  {
   "cell_type": "code",
   "execution_count": 6,
   "id": "bb33e9a3",
   "metadata": {},
   "outputs": [],
   "source": [
    "#Spliting Date_of_Journey column into three different columns i.e., Date, Month, and Year\n",
    "#Converting the types to integer\n",
    "#Dropping the old 'Date_of_Journey' column\n",
    "\n",
    "big_df['Date'] = big_df['Date_of_Journey'].str.split('/').str[0]\n",
    "big_df['Month'] = big_df['Date_of_Journey'].str.split('/').str[1]\n",
    "big_df['Year'] = big_df['Date_of_Journey'].str.split('/').str[2]\n",
    "\n",
    "big_df['Date'] = big_df['Date'].astype(int)\n",
    "big_df['Month'] = big_df['Month'].astype(int)\n",
    "big_df['Year'] = big_df['Year'].astype(int)\n",
    "\n",
    "big_df=big_df.drop(['Date_of_Journey'], axis=1)"
   ]
  },
  {
   "cell_type": "code",
   "execution_count": 7,
   "id": "5e0c3eba",
   "metadata": {},
   "outputs": [
    {
     "data": {
      "text/plain": [
       "0       01:10\n",
       "1       13:15\n",
       "2       04:25\n",
       "3       23:30\n",
       "4       21:35\n",
       "        ...  \n",
       "2666    20:25\n",
       "2667    16:55\n",
       "2668    04:25\n",
       "2669    19:15\n",
       "2670    19:15\n",
       "Name: Arrival_Time, Length: 13354, dtype: object"
      ]
     },
     "execution_count": 7,
     "metadata": {},
     "output_type": "execute_result"
    }
   ],
   "source": [
    "#Spliting the 'Arrival_Time' column\n",
    "\n",
    "big_df['Arrival_Time'] = big_df['Arrival_Time'].str.split(' ').str[0]\n",
    "big_df['Arrival_Time']"
   ]
  },
  {
   "cell_type": "code",
   "execution_count": 8,
   "id": "a9a0d35e",
   "metadata": {},
   "outputs": [],
   "source": [
    "#Spliting Arrival_Time column into two different columns i.e., Hour, and Minutes\n",
    "\n",
    "big_df['Arrival_Hour'] = big_df['Arrival_Time'].str.split(':').str[0]\n",
    "big_df['Arrival_Minute'] = big_df['Arrival_Time'].str.split(':').str[1]\n",
    "\n",
    "#Changing the data types of Arrival_Hours and Arrival_Minute\n",
    "\n",
    "big_df['Arrival_Hour'] = big_df['Arrival_Hour'].astype(int)\n",
    "big_df['Arrival_Minute'] = big_df['Arrival_Minute'].astype(int)"
   ]
  },
  {
   "cell_type": "code",
   "execution_count": 9,
   "id": "d7a51d2a",
   "metadata": {},
   "outputs": [
    {
     "data": {
      "text/html": [
       "<div>\n",
       "<style scoped>\n",
       "    .dataframe tbody tr th:only-of-type {\n",
       "        vertical-align: middle;\n",
       "    }\n",
       "\n",
       "    .dataframe tbody tr th {\n",
       "        vertical-align: top;\n",
       "    }\n",
       "\n",
       "    .dataframe thead th {\n",
       "        text-align: right;\n",
       "    }\n",
       "</style>\n",
       "<table border=\"1\" class=\"dataframe\">\n",
       "  <thead>\n",
       "    <tr style=\"text-align: right;\">\n",
       "      <th></th>\n",
       "      <th>Arrival_Hour</th>\n",
       "      <th>Arrival_Minute</th>\n",
       "    </tr>\n",
       "  </thead>\n",
       "  <tbody>\n",
       "    <tr>\n",
       "      <th>0</th>\n",
       "      <td>1</td>\n",
       "      <td>10</td>\n",
       "    </tr>\n",
       "    <tr>\n",
       "      <th>1</th>\n",
       "      <td>13</td>\n",
       "      <td>15</td>\n",
       "    </tr>\n",
       "    <tr>\n",
       "      <th>2</th>\n",
       "      <td>4</td>\n",
       "      <td>25</td>\n",
       "    </tr>\n",
       "    <tr>\n",
       "      <th>3</th>\n",
       "      <td>23</td>\n",
       "      <td>30</td>\n",
       "    </tr>\n",
       "    <tr>\n",
       "      <th>4</th>\n",
       "      <td>21</td>\n",
       "      <td>35</td>\n",
       "    </tr>\n",
       "    <tr>\n",
       "      <th>...</th>\n",
       "      <td>...</td>\n",
       "      <td>...</td>\n",
       "    </tr>\n",
       "    <tr>\n",
       "      <th>2666</th>\n",
       "      <td>20</td>\n",
       "      <td>25</td>\n",
       "    </tr>\n",
       "    <tr>\n",
       "      <th>2667</th>\n",
       "      <td>16</td>\n",
       "      <td>55</td>\n",
       "    </tr>\n",
       "    <tr>\n",
       "      <th>2668</th>\n",
       "      <td>4</td>\n",
       "      <td>25</td>\n",
       "    </tr>\n",
       "    <tr>\n",
       "      <th>2669</th>\n",
       "      <td>19</td>\n",
       "      <td>15</td>\n",
       "    </tr>\n",
       "    <tr>\n",
       "      <th>2670</th>\n",
       "      <td>19</td>\n",
       "      <td>15</td>\n",
       "    </tr>\n",
       "  </tbody>\n",
       "</table>\n",
       "<p>13354 rows × 2 columns</p>\n",
       "</div>"
      ],
      "text/plain": [
       "      Arrival_Hour  Arrival_Minute\n",
       "0                1              10\n",
       "1               13              15\n",
       "2                4              25\n",
       "3               23              30\n",
       "4               21              35\n",
       "...            ...             ...\n",
       "2666            20              25\n",
       "2667            16              55\n",
       "2668             4              25\n",
       "2669            19              15\n",
       "2670            19              15\n",
       "\n",
       "[13354 rows x 2 columns]"
      ]
     },
     "execution_count": 9,
     "metadata": {},
     "output_type": "execute_result"
    }
   ],
   "source": [
    "#Printing out 'Arrival_Hour' and 'Arrival_Minute'\n",
    "\n",
    "big_df[['Arrival_Hour','Arrival_Minute']]"
   ]
  },
  {
   "cell_type": "code",
   "execution_count": 10,
   "id": "a56189cb",
   "metadata": {},
   "outputs": [],
   "source": [
    "#Dropping the old 'Arrival_Time' column\n",
    "\n",
    "big_df = big_df.drop(['Arrival_Time'], axis = 1)"
   ]
  },
  {
   "cell_type": "code",
   "execution_count": 11,
   "id": "5458da80",
   "metadata": {},
   "outputs": [
    {
     "data": {
      "text/plain": [
       "1"
      ]
     },
     "execution_count": 11,
     "metadata": {},
     "output_type": "execute_result"
    }
   ],
   "source": [
    "#Checking the number of NULL values in 'Total_Stops' column\n",
    "\n",
    "big_df['Total_Stops'].isna().sum()"
   ]
  },
  {
   "cell_type": "code",
   "execution_count": 12,
   "id": "6c4f01c6",
   "metadata": {},
   "outputs": [],
   "source": [
    "#Filling NULL value of 'Total_Stops' column to '1 Stop'\n",
    "\n",
    "big_df['Total_Stops'] = big_df['Total_Stops'].fillna('1 Stop')"
   ]
  },
  {
   "cell_type": "code",
   "execution_count": 13,
   "id": "7a5af1d5",
   "metadata": {},
   "outputs": [],
   "source": [
    "#Replacing 'non-stop' to '0 stop' in 'Total_Stops' column\n",
    "\n",
    "big_df['Total_Stops'] = big_df['Total_Stops'].replace('non-stop', '0 stop')"
   ]
  },
  {
   "cell_type": "code",
   "execution_count": 14,
   "id": "f0b35665",
   "metadata": {},
   "outputs": [],
   "source": [
    "#Spliting the 'Total_Stop' column and retriving the number of stops to 'Stop' column\n",
    "\n",
    "big_df['Stop'] = big_df['Total_Stops'].str.split(' ').str[0]"
   ]
  },
  {
   "cell_type": "code",
   "execution_count": 15,
   "id": "e9a4c74d",
   "metadata": {},
   "outputs": [
    {
     "data": {
      "text/plain": [
       "0       0\n",
       "1       2\n",
       "2       2\n",
       "3       1\n",
       "4       1\n",
       "       ..\n",
       "2666    1\n",
       "2667    0\n",
       "2668    1\n",
       "2669    1\n",
       "2670    1\n",
       "Name: Stop, Length: 13354, dtype: object"
      ]
     },
     "execution_count": 15,
     "metadata": {},
     "output_type": "execute_result"
    }
   ],
   "source": [
    "#Printing out the 'Stop' column\n",
    "\n",
    "big_df['Stop']"
   ]
  },
  {
   "cell_type": "code",
   "execution_count": 16,
   "id": "30917fd7",
   "metadata": {},
   "outputs": [],
   "source": [
    "#Dropping the old 'Total_Stops' column\n",
    "\n",
    "big_df = big_df.drop(['Total_Stops'], axis = 1)"
   ]
  },
  {
   "cell_type": "code",
   "execution_count": 17,
   "id": "fd7be480",
   "metadata": {},
   "outputs": [],
   "source": [
    "#Changing the datatype of 'Stop' column to integer\n",
    "\n",
    "big_df['Stop'] = big_df['Stop'].astype(int)"
   ]
  },
  {
   "cell_type": "code",
   "execution_count": 18,
   "id": "957cf153",
   "metadata": {},
   "outputs": [
    {
     "data": {
      "text/plain": [
       "0       22:20\n",
       "1       05:50\n",
       "2       09:25\n",
       "3       18:05\n",
       "4       16:50\n",
       "        ...  \n",
       "2666    20:30\n",
       "2667    14:20\n",
       "2668    21:50\n",
       "2669    04:00\n",
       "2670    04:55\n",
       "Name: Dep_Time, Length: 13354, dtype: object"
      ]
     },
     "execution_count": 18,
     "metadata": {},
     "output_type": "execute_result"
    }
   ],
   "source": [
    "#Printing out the 'Dep_Time' column\n",
    "\n",
    "big_df['Dep_Time']"
   ]
  },
  {
   "cell_type": "code",
   "execution_count": 19,
   "id": "e5adc808",
   "metadata": {},
   "outputs": [],
   "source": [
    "#Spliting Dep_Time column into two different columns i.e., Hour, and Minute\n",
    "\n",
    "big_df['Dep_Hour'] = big_df['Dep_Time'].str.split(':').str[0]\n",
    "big_df['Dep_Minute'] = big_df['Dep_Time'].str.split(':').str[1]"
   ]
  },
  {
   "cell_type": "code",
   "execution_count": 20,
   "id": "10f69839",
   "metadata": {},
   "outputs": [
    {
     "data": {
      "text/html": [
       "<div>\n",
       "<style scoped>\n",
       "    .dataframe tbody tr th:only-of-type {\n",
       "        vertical-align: middle;\n",
       "    }\n",
       "\n",
       "    .dataframe tbody tr th {\n",
       "        vertical-align: top;\n",
       "    }\n",
       "\n",
       "    .dataframe thead th {\n",
       "        text-align: right;\n",
       "    }\n",
       "</style>\n",
       "<table border=\"1\" class=\"dataframe\">\n",
       "  <thead>\n",
       "    <tr style=\"text-align: right;\">\n",
       "      <th></th>\n",
       "      <th>Dep_Hour</th>\n",
       "      <th>Dep_Minute</th>\n",
       "    </tr>\n",
       "  </thead>\n",
       "  <tbody>\n",
       "    <tr>\n",
       "      <th>0</th>\n",
       "      <td>22</td>\n",
       "      <td>20</td>\n",
       "    </tr>\n",
       "    <tr>\n",
       "      <th>1</th>\n",
       "      <td>05</td>\n",
       "      <td>50</td>\n",
       "    </tr>\n",
       "    <tr>\n",
       "      <th>2</th>\n",
       "      <td>09</td>\n",
       "      <td>25</td>\n",
       "    </tr>\n",
       "    <tr>\n",
       "      <th>3</th>\n",
       "      <td>18</td>\n",
       "      <td>05</td>\n",
       "    </tr>\n",
       "    <tr>\n",
       "      <th>4</th>\n",
       "      <td>16</td>\n",
       "      <td>50</td>\n",
       "    </tr>\n",
       "    <tr>\n",
       "      <th>...</th>\n",
       "      <td>...</td>\n",
       "      <td>...</td>\n",
       "    </tr>\n",
       "    <tr>\n",
       "      <th>2666</th>\n",
       "      <td>20</td>\n",
       "      <td>30</td>\n",
       "    </tr>\n",
       "    <tr>\n",
       "      <th>2667</th>\n",
       "      <td>14</td>\n",
       "      <td>20</td>\n",
       "    </tr>\n",
       "    <tr>\n",
       "      <th>2668</th>\n",
       "      <td>21</td>\n",
       "      <td>50</td>\n",
       "    </tr>\n",
       "    <tr>\n",
       "      <th>2669</th>\n",
       "      <td>04</td>\n",
       "      <td>00</td>\n",
       "    </tr>\n",
       "    <tr>\n",
       "      <th>2670</th>\n",
       "      <td>04</td>\n",
       "      <td>55</td>\n",
       "    </tr>\n",
       "  </tbody>\n",
       "</table>\n",
       "<p>13354 rows × 2 columns</p>\n",
       "</div>"
      ],
      "text/plain": [
       "     Dep_Hour Dep_Minute\n",
       "0          22         20\n",
       "1          05         50\n",
       "2          09         25\n",
       "3          18         05\n",
       "4          16         50\n",
       "...       ...        ...\n",
       "2666       20         30\n",
       "2667       14         20\n",
       "2668       21         50\n",
       "2669       04         00\n",
       "2670       04         55\n",
       "\n",
       "[13354 rows x 2 columns]"
      ]
     },
     "execution_count": 20,
     "metadata": {},
     "output_type": "execute_result"
    }
   ],
   "source": [
    "#Printing out the 'Dep_Hour' and 'Dep_Minute' column\n",
    "\n",
    "big_df[['Dep_Hour','Dep_Minute']]"
   ]
  },
  {
   "cell_type": "code",
   "execution_count": 21,
   "id": "91d7597a",
   "metadata": {},
   "outputs": [],
   "source": [
    "#Changing the datatype of 'Dep_Hour' and 'Dep_Minute' column to integer\n",
    "\n",
    "big_df['Dep_Hour'] = big_df['Dep_Hour'].astype(int)\n",
    "big_df['Dep_Minute'] = big_df['Dep_Minute'].astype(int)"
   ]
  },
  {
   "cell_type": "code",
   "execution_count": 22,
   "id": "61888b55",
   "metadata": {},
   "outputs": [],
   "source": [
    "#Dropping the old 'Dep_Time' column\n",
    "\n",
    "big_df = big_df.drop(['Dep_Time'], axis = 1)"
   ]
  },
  {
   "cell_type": "code",
   "execution_count": 23,
   "id": "50e6a9fc",
   "metadata": {},
   "outputs": [],
   "source": [
    "#Revising Route column by removing the arrow signs\n",
    "\n",
    "big_df['Route_1'] = big_df['Route'].str.split('→').str[0]\n",
    "big_df['Route_2'] = big_df['Route'].str.split('→').str[1]\n",
    "big_df['Route_3'] = big_df['Route'].str.split('→').str[2]\n",
    "big_df['Route_4'] = big_df['Route'].str.split('→').str[3]\n",
    "big_df['Route_5'] = big_df['Route'].str.split('→').str[4]"
   ]
  },
  {
   "cell_type": "code",
   "execution_count": 24,
   "id": "c9b6a020",
   "metadata": {},
   "outputs": [
    {
     "data": {
      "text/plain": [
       "1"
      ]
     },
     "execution_count": 24,
     "metadata": {},
     "output_type": "execute_result"
    }
   ],
   "source": [
    "#Checking for NULL values\n",
    "\n",
    "big_df['Route_1'].isna().sum()"
   ]
  },
  {
   "cell_type": "code",
   "execution_count": 25,
   "id": "fc7c84dd",
   "metadata": {},
   "outputs": [
    {
     "data": {
      "text/plain": [
       "1"
      ]
     },
     "execution_count": 25,
     "metadata": {},
     "output_type": "execute_result"
    }
   ],
   "source": [
    "#Checking for NULL values\n",
    "\n",
    "big_df['Route_2'].isna().sum()\n"
   ]
  },
  {
   "cell_type": "code",
   "execution_count": 26,
   "id": "8af77231",
   "metadata": {},
   "outputs": [
    {
     "data": {
      "text/plain": [
       "4341"
      ]
     },
     "execution_count": 26,
     "metadata": {},
     "output_type": "execute_result"
    }
   ],
   "source": [
    "#Checking for NULL values\n",
    "\n",
    "big_df['Route_3'].isna().sum()\n"
   ]
  },
  {
   "cell_type": "code",
   "execution_count": 27,
   "id": "0045dea9",
   "metadata": {},
   "outputs": [
    {
     "data": {
      "text/plain": [
       "11397"
      ]
     },
     "execution_count": 27,
     "metadata": {},
     "output_type": "execute_result"
    }
   ],
   "source": [
    "#Checking for NULL values\n",
    "\n",
    "big_df['Route_4'].isna().sum()"
   ]
  },
  {
   "cell_type": "code",
   "execution_count": 28,
   "id": "3bff0646",
   "metadata": {},
   "outputs": [
    {
     "data": {
      "text/plain": [
       "13296"
      ]
     },
     "execution_count": 28,
     "metadata": {},
     "output_type": "execute_result"
    }
   ],
   "source": [
    "#Checking for NULL values\n",
    "\n",
    "big_df['Route_5'].isna().sum()"
   ]
  },
  {
   "cell_type": "code",
   "execution_count": 29,
   "id": "2e0ecebc",
   "metadata": {},
   "outputs": [],
   "source": [
    "#Replacing NaN with None in each Route columns to get rid of NULL values\n",
    "\n",
    "big_df['Route_1'].fillna(\"None\", inplace = True)\n",
    "big_df['Route_2'].fillna(\"None\", inplace = True)\n",
    "big_df['Route_3'].fillna(\"None\", inplace = True)\n",
    "big_df['Route_4'].fillna(\"None\", inplace = True)\n",
    "big_df['Route_5'].fillna(\"None\", inplace = True)"
   ]
  },
  {
   "cell_type": "code",
   "execution_count": 30,
   "id": "c767738b",
   "metadata": {},
   "outputs": [
    {
     "data": {
      "text/plain": [
       "2671"
      ]
     },
     "execution_count": 30,
     "metadata": {},
     "output_type": "execute_result"
    }
   ],
   "source": [
    "#Checking for NULL values in 'Price' column\n",
    "\n",
    "big_df['Price'].isna().sum()"
   ]
  },
  {
   "cell_type": "code",
   "execution_count": 31,
   "id": "3c8f41a0",
   "metadata": {},
   "outputs": [],
   "source": [
    "#Imputing the mean value of price to all NULL values\n",
    "\n",
    "big_df['Price'].fillna((big_df['Price'].mean()), inplace = True)"
   ]
  },
  {
   "cell_type": "code",
   "execution_count": 32,
   "id": "2ad7e81f",
   "metadata": {},
   "outputs": [
    {
     "data": {
      "text/plain": [
       "0        3897.000000\n",
       "1        7662.000000\n",
       "2       13882.000000\n",
       "3        6218.000000\n",
       "4       13302.000000\n",
       "            ...     \n",
       "2666     9087.064121\n",
       "2667     9087.064121\n",
       "2668     9087.064121\n",
       "2669     9087.064121\n",
       "2670     9087.064121\n",
       "Name: Price, Length: 13354, dtype: float64"
      ]
     },
     "execution_count": 32,
     "metadata": {},
     "output_type": "execute_result"
    }
   ],
   "source": [
    "#Printing out the 'Price' column after imputing mean\n",
    "\n",
    "big_df['Price']"
   ]
  },
  {
   "cell_type": "code",
   "execution_count": 33,
   "id": "d9d4a02a",
   "metadata": {},
   "outputs": [
    {
     "data": {
      "text/html": [
       "<div>\n",
       "<style scoped>\n",
       "    .dataframe tbody tr th:only-of-type {\n",
       "        vertical-align: middle;\n",
       "    }\n",
       "\n",
       "    .dataframe tbody tr th {\n",
       "        vertical-align: top;\n",
       "    }\n",
       "\n",
       "    .dataframe thead th {\n",
       "        text-align: right;\n",
       "    }\n",
       "</style>\n",
       "<table border=\"1\" class=\"dataframe\">\n",
       "  <thead>\n",
       "    <tr style=\"text-align: right;\">\n",
       "      <th></th>\n",
       "      <th>Price</th>\n",
       "      <th>Date</th>\n",
       "      <th>Month</th>\n",
       "      <th>Year</th>\n",
       "      <th>Arrival_Hour</th>\n",
       "      <th>Arrival_Minute</th>\n",
       "      <th>Stop</th>\n",
       "      <th>Dep_Hour</th>\n",
       "      <th>Dep_Minute</th>\n",
       "    </tr>\n",
       "  </thead>\n",
       "  <tbody>\n",
       "    <tr>\n",
       "      <th>count</th>\n",
       "      <td>13354.000000</td>\n",
       "      <td>13354.000000</td>\n",
       "      <td>13354.000000</td>\n",
       "      <td>13354.0</td>\n",
       "      <td>13354.000000</td>\n",
       "      <td>13354.000000</td>\n",
       "      <td>13354.000000</td>\n",
       "      <td>13354.000000</td>\n",
       "      <td>13354.000000</td>\n",
       "    </tr>\n",
       "    <tr>\n",
       "      <th>mean</th>\n",
       "      <td>9087.064121</td>\n",
       "      <td>13.389846</td>\n",
       "      <td>4.710574</td>\n",
       "      <td>2019.0</td>\n",
       "      <td>13.396061</td>\n",
       "      <td>24.664146</td>\n",
       "      <td>0.826045</td>\n",
       "      <td>12.513254</td>\n",
       "      <td>24.507264</td>\n",
       "    </tr>\n",
       "    <tr>\n",
       "      <th>std</th>\n",
       "      <td>4124.447805</td>\n",
       "      <td>8.439060</td>\n",
       "      <td>1.165622</td>\n",
       "      <td>0.0</td>\n",
       "      <td>6.896145</td>\n",
       "      <td>16.559723</td>\n",
       "      <td>0.674608</td>\n",
       "      <td>5.736273</td>\n",
       "      <td>18.832385</td>\n",
       "    </tr>\n",
       "    <tr>\n",
       "      <th>min</th>\n",
       "      <td>1759.000000</td>\n",
       "      <td>1.000000</td>\n",
       "      <td>3.000000</td>\n",
       "      <td>2019.0</td>\n",
       "      <td>0.000000</td>\n",
       "      <td>0.000000</td>\n",
       "      <td>0.000000</td>\n",
       "      <td>0.000000</td>\n",
       "      <td>0.000000</td>\n",
       "    </tr>\n",
       "    <tr>\n",
       "      <th>25%</th>\n",
       "      <td>6135.250000</td>\n",
       "      <td>6.000000</td>\n",
       "      <td>3.000000</td>\n",
       "      <td>2019.0</td>\n",
       "      <td>8.000000</td>\n",
       "      <td>10.000000</td>\n",
       "      <td>0.000000</td>\n",
       "      <td>8.000000</td>\n",
       "      <td>5.000000</td>\n",
       "    </tr>\n",
       "    <tr>\n",
       "      <th>50%</th>\n",
       "      <td>9087.064121</td>\n",
       "      <td>12.000000</td>\n",
       "      <td>5.000000</td>\n",
       "      <td>2019.0</td>\n",
       "      <td>14.000000</td>\n",
       "      <td>25.000000</td>\n",
       "      <td>1.000000</td>\n",
       "      <td>11.000000</td>\n",
       "      <td>25.000000</td>\n",
       "    </tr>\n",
       "    <tr>\n",
       "      <th>75%</th>\n",
       "      <td>11087.000000</td>\n",
       "      <td>21.000000</td>\n",
       "      <td>6.000000</td>\n",
       "      <td>2019.0</td>\n",
       "      <td>19.000000</td>\n",
       "      <td>35.000000</td>\n",
       "      <td>1.000000</td>\n",
       "      <td>18.000000</td>\n",
       "      <td>40.000000</td>\n",
       "    </tr>\n",
       "    <tr>\n",
       "      <th>max</th>\n",
       "      <td>79512.000000</td>\n",
       "      <td>27.000000</td>\n",
       "      <td>6.000000</td>\n",
       "      <td>2019.0</td>\n",
       "      <td>23.000000</td>\n",
       "      <td>55.000000</td>\n",
       "      <td>4.000000</td>\n",
       "      <td>23.000000</td>\n",
       "      <td>55.000000</td>\n",
       "    </tr>\n",
       "  </tbody>\n",
       "</table>\n",
       "</div>"
      ],
      "text/plain": [
       "              Price          Date         Month     Year  Arrival_Hour  \\\n",
       "count  13354.000000  13354.000000  13354.000000  13354.0  13354.000000   \n",
       "mean    9087.064121     13.389846      4.710574   2019.0     13.396061   \n",
       "std     4124.447805      8.439060      1.165622      0.0      6.896145   \n",
       "min     1759.000000      1.000000      3.000000   2019.0      0.000000   \n",
       "25%     6135.250000      6.000000      3.000000   2019.0      8.000000   \n",
       "50%     9087.064121     12.000000      5.000000   2019.0     14.000000   \n",
       "75%    11087.000000     21.000000      6.000000   2019.0     19.000000   \n",
       "max    79512.000000     27.000000      6.000000   2019.0     23.000000   \n",
       "\n",
       "       Arrival_Minute          Stop      Dep_Hour    Dep_Minute  \n",
       "count    13354.000000  13354.000000  13354.000000  13354.000000  \n",
       "mean        24.664146      0.826045     12.513254     24.507264  \n",
       "std         16.559723      0.674608      5.736273     18.832385  \n",
       "min          0.000000      0.000000      0.000000      0.000000  \n",
       "25%         10.000000      0.000000      8.000000      5.000000  \n",
       "50%         25.000000      1.000000     11.000000     25.000000  \n",
       "75%         35.000000      1.000000     18.000000     40.000000  \n",
       "max         55.000000      4.000000     23.000000     55.000000  "
      ]
     },
     "execution_count": 33,
     "metadata": {},
     "output_type": "execute_result"
    }
   ],
   "source": [
    "#Used the decribe function to print out summary of statistics\n",
    "\n",
    "big_df.describe()"
   ]
  },
  {
   "cell_type": "code",
   "execution_count": 34,
   "id": "0562408b",
   "metadata": {},
   "outputs": [],
   "source": [
    "#Dropping out the old 'Route' and 'Duration' column\n",
    "\n",
    "big_df = big_df.drop(['Route'], axis = 1)\n",
    "big_df = big_df.drop(['Duration'], axis = 1)"
   ]
  },
  {
   "cell_type": "code",
   "execution_count": 35,
   "id": "233e1e3c",
   "metadata": {},
   "outputs": [],
   "source": [
    "#Preparing categorical variables for model using label encoder\n",
    "#To convert categorical text data into model-understandable numerical data, we use the Label Encoder class\n",
    "\n",
    "from sklearn.preprocessing import LabelEncoder\n",
    "\n",
    "lb_encode = LabelEncoder()\n",
    "big_df['Additional_Info'] = lb_encode.fit_transform(big_df['Additional_Info'])\n",
    "big_df['Airline'] = lb_encode.fit_transform(big_df['Airline'])\n",
    "big_df['Destination'] = lb_encode.fit_transform(big_df['Destination'])\n",
    "big_df['Source'] = lb_encode.fit_transform(big_df['Source'])\n",
    "big_df['Route_1'] = lb_encode.fit_transform(big_df['Route_1'])\n",
    "big_df['Route_2'] = lb_encode.fit_transform(big_df['Route_2'])\n",
    "big_df['Route_3'] = lb_encode.fit_transform(big_df['Route_3'])\n",
    "big_df['Route_4'] = lb_encode.fit_transform(big_df['Route_4'])\n",
    "big_df['Route_5'] = lb_encode.fit_transform(big_df['Route_5'])"
   ]
  },
  {
   "cell_type": "code",
   "execution_count": 36,
   "id": "08f1620b",
   "metadata": {},
   "outputs": [
    {
     "data": {
      "text/plain": [
       "Airline              int32\n",
       "Source               int32\n",
       "Destination          int32\n",
       "Additional_Info      int32\n",
       "Price              float64\n",
       "Date                 int32\n",
       "Month                int32\n",
       "Year                 int32\n",
       "Arrival_Hour         int32\n",
       "Arrival_Minute       int32\n",
       "Stop                 int32\n",
       "Dep_Hour             int32\n",
       "Dep_Minute           int32\n",
       "Route_1              int32\n",
       "Route_2              int32\n",
       "Route_3              int32\n",
       "Route_4              int32\n",
       "Route_5              int32\n",
       "dtype: object"
      ]
     },
     "execution_count": 36,
     "metadata": {},
     "output_type": "execute_result"
    }
   ],
   "source": [
    "#Finally checking the datatypes of each column\n",
    "\n",
    "big_df.dtypes"
   ]
  },
  {
   "cell_type": "code",
   "execution_count": 37,
   "id": "466bc00f",
   "metadata": {},
   "outputs": [],
   "source": [
    "#Dividing the data into train and test\n",
    "\n",
    "df_train = big_df[0:10683]\n",
    "df_test = big_df[10683:]"
   ]
  },
  {
   "cell_type": "code",
   "execution_count": 38,
   "id": "131880ae",
   "metadata": {},
   "outputs": [],
   "source": [
    "#Dropping the 'Price' column from the test dataset\n",
    "\n",
    "df_test = df_test.drop(['Price'], axis = 1)"
   ]
  },
  {
   "cell_type": "code",
   "execution_count": 39,
   "id": "bacbeb53",
   "metadata": {},
   "outputs": [],
   "source": [
    "#Dividing df_train to X and y respectively\n",
    "\n",
    "X = df_train.drop(['Price'], axis = 1)\n",
    "y = df_train.Price"
   ]
  },
  {
   "cell_type": "code",
   "execution_count": 59,
   "id": "601ab648",
   "metadata": {},
   "outputs": [],
   "source": [
    "#Importing model libraries for Machine Learning models\n",
    "\n",
    "from sklearn.linear_model import LinearRegression\n",
    "from sklearn.tree import DecisionTreeRegressor\n",
    "from sklearn.neighbors import KNeighborsRegressor\n",
    "from sklearn.svm import SVR\n",
    "from sklearn.model_selection import train_test_split\n",
    "from sklearn.metrics import r2_score, mean_absolute_error, mean_squared_error"
   ]
  },
  {
   "cell_type": "code",
   "execution_count": 68,
   "id": "8ed587c0",
   "metadata": {},
   "outputs": [],
   "source": [
    "#Assigning each to a variable\n",
    "\n",
    "dt = DecisionTreeRegressor()\n",
    "svr = SVR()\n",
    "knn = KNeighborsRegressor()\n",
    "lr = LinearRegression()"
   ]
  },
  {
   "cell_type": "code",
   "execution_count": 62,
   "id": "fe739d08",
   "metadata": {},
   "outputs": [],
   "source": [
    "#Spliting the data by 70-30\n",
    "\n",
    "X_train, X_test, y_train, y_test = train_test_split(X, y, test_size = 0.3, random_state = 47)"
   ]
  },
  {
   "cell_type": "code",
   "execution_count": 78,
   "id": "2b4f8eea",
   "metadata": {},
   "outputs": [
    {
     "name": "stdout",
     "output_type": "stream",
     "text": [
      "DecisionTreeRegressor()\n",
      "R2 score is 0.8278857162847064\n",
      "R2 for train data is 0.9965922757175513\n",
      "Mean Absolute Error is 727.3556942277692\n",
      "Mean Squared Error is 3703723.3102964116\n",
      "Root Mean Squared Error is 1924.505991234221\n",
      "-----------------------------\n",
      "SVR()\n",
      "R2 score is -0.021465086494998342\n",
      "R2 for train data is -0.02507914415264345\n",
      "Mean Absolute Error is 3649.1827690313457\n",
      "Mean Squared Error is 21980883.68867493\n",
      "Root Mean Squared Error is 4688.377511322539\n",
      "-----------------------------\n",
      "KNeighborsRegressor()\n",
      "R2 score is 0.6570257833107811\n",
      "R2 for train data is 0.7847906002964877\n",
      "Mean Absolute Error is 1621.539282371295\n",
      "Mean Squared Error is 7380454.2758564735\n",
      "Root Mean Squared Error is 2716.6991507814173\n",
      "-----------------------------\n",
      "LinearRegression()\n",
      "R2 score is 0.4978069836098046\n",
      "R2 for train data is 0.49371557019830536\n",
      "Mean Absolute Error is 2309.7338089909376\n",
      "Mean Squared Error is 10806679.962420585\n",
      "Root Mean Squared Error is 3287.3515118436276\n",
      "-----------------------------\n"
     ]
    }
   ],
   "source": [
    "#Running for loop to fit and predict each model\n",
    "\n",
    "for i in [dt, svr, knn, lr]:\n",
    "    i.fit(X_train, y_train)\n",
    "    pred = i.predict(X_test)\n",
    "    test_score = r2_score(y_test, pred)\n",
    "    train_score = r2_score(y_train, i.predict(X_train))\n",
    "    #if abs(train_score - test_score) <= 0.1:\n",
    "    print(i)\n",
    "    print('R2 score is', r2_score(y_test, pred))\n",
    "    print('R2 for train data is', r2_score(y_train, i.predict(X_train)))\n",
    "    print('Mean Absolute Error is', mean_absolute_error(y_test, pred))\n",
    "    print('Mean Squared Error is', mean_squared_error(y_test, pred))\n",
    "    print('Root Mean Squared Error is', (mean_squared_error(y_test, pred, squared = False)))\n",
    "    print('-----------------------------')"
   ]
  },
  {
   "cell_type": "code",
   "execution_count": 80,
   "id": "e6f0cb71",
   "metadata": {},
   "outputs": [],
   "source": [
    "#Importing ensembling model libraries for Machine Learning model\n",
    "\n",
    "from sklearn.ensemble import RandomForestRegressor, AdaBoostRegressor, GradientBoostingRegressor"
   ]
  },
  {
   "cell_type": "code",
   "execution_count": 82,
   "id": "1f2a9ef9",
   "metadata": {},
   "outputs": [],
   "source": [
    "#Assigning each to a variable\n",
    "\n",
    "rfr = RandomForestRegressor()\n",
    "abr = AdaBoostRegressor()\n",
    "gbr = GradientBoostingRegressor()"
   ]
  },
  {
   "cell_type": "code",
   "execution_count": 83,
   "id": "a3225765",
   "metadata": {},
   "outputs": [],
   "source": [
    "#Spliting the data by 70-30\n",
    "\n",
    "X_train, X_test, y_train, y_test = train_test_split(X, y, test_size = 0.3, random_state = 123)"
   ]
  },
  {
   "cell_type": "code",
   "execution_count": 84,
   "id": "37e056df",
   "metadata": {},
   "outputs": [
    {
     "name": "stdout",
     "output_type": "stream",
     "text": [
      "RandomForestRegressor()\n",
      "R2 score is 0.9041976904583602\n",
      "R2 for train data is 0.9798230933912339\n",
      "Mean Absolute Error is 605.3577255342594\n",
      "Mean Squared Error is 1933315.9312879078\n",
      "Root Mean Squared Error is 1390.4373165619181\n",
      "-----------------------------\n",
      "AdaBoostRegressor()\n",
      "R2 score is 0.44576982861281733\n",
      "R2 for train data is 0.5113897507794377\n",
      "Mean Absolute Error is 2591.603152390914\n",
      "Mean Squared Error is 11184511.365851225\n",
      "Root Mean Squared Error is 3344.3252482154344\n",
      "-----------------------------\n",
      "GradientBoostingRegressor()\n",
      "R2 score is 0.8323481943311677\n",
      "R2 for train data is 0.8478499406895647\n",
      "Mean Absolute Error is 1205.400261375095\n",
      "Mean Squared Error is 3383257.756096785\n",
      "Root Mean Squared Error is 1839.3634105572462\n",
      "-----------------------------\n"
     ]
    }
   ],
   "source": [
    "#Running for loop to fit and predict each model\n",
    "\n",
    "for i in [rfr, abr, gbr]:\n",
    "    i.fit(X_train, y_train)\n",
    "    pred = i.predict(X_test)\n",
    "    test_score = r2_score(y_test, pred)\n",
    "    train_score = r2_score(y_train, i.predict(X_train))\n",
    "    #if abs(train_score - test_score) <= 0.1:\n",
    "    print(i)\n",
    "    print('R2 score is', r2_score(y_test, pred))\n",
    "    print('R2 for train data is', r2_score(y_train, i.predict(X_train)))\n",
    "    print('Mean Absolute Error is', mean_absolute_error(y_test, pred))\n",
    "    print('Mean Squared Error is', mean_squared_error(y_test, pred))\n",
    "    print('Root Mean Squared Error is', (mean_squared_error(y_test, pred, squared = False)))\n",
    "    print('-----------------------------')"
   ]
  },
  {
   "cell_type": "code",
   "execution_count": 86,
   "id": "ff0f5642",
   "metadata": {},
   "outputs": [],
   "source": [
    "# Performing Cross Validation to remove overfitting, if any\n",
    "#Importing cross_val_score library for Cross Validation\n",
    "\n",
    "from sklearn.model_selection import cross_val_score"
   ]
  },
  {
   "cell_type": "code",
   "execution_count": 89,
   "id": "f63a5f24",
   "metadata": {},
   "outputs": [
    {
     "name": "stdout",
     "output_type": "stream",
     "text": [
      "RandomForestRegressor() 0.8757826175497462\n",
      "RandomForestRegressor() 0.8797052920201892\n",
      "RandomForestRegressor() 0.8925452156716971\n",
      "RandomForestRegressor() 0.8957933798246488\n",
      "RandomForestRegressor() 0.8963873764899061\n",
      "RandomForestRegressor() 0.9003574686331718\n",
      "RandomForestRegressor() 0.8980018954623677\n"
     ]
    }
   ],
   "source": [
    "#Running for loop for CV from 2 to 9\n",
    "#This is done on Random Forest Regressor\n",
    "\n",
    "for i in range(2,9):\n",
    "    cv = cross_val_score(rfr, X, y, cv = i)\n",
    "    print(rfr, cv.mean())"
   ]
  },
  {
   "cell_type": "code",
   "execution_count": 90,
   "id": "39996d90",
   "metadata": {},
   "outputs": [
    {
     "name": "stdout",
     "output_type": "stream",
     "text": [
      "GradientBoostingRegressor() 0.8235574382031221\n",
      "GradientBoostingRegressor() 0.8260138362588064\n",
      "GradientBoostingRegressor() 0.8278407648418287\n",
      "GradientBoostingRegressor() 0.8295598539688864\n",
      "GradientBoostingRegressor() 0.8274151906532365\n",
      "GradientBoostingRegressor() 0.8295296751639843\n",
      "GradientBoostingRegressor() 0.8296026240744189\n"
     ]
    }
   ],
   "source": [
    "#Running for loop for CV from 2 to 9\n",
    "#This is done on Gradient Boosting Regressor\n",
    "\n",
    "for i in range(2,9):\n",
    "    cv = cross_val_score(gbr, X, y, cv = i)\n",
    "    print(gbr, cv.mean())"
   ]
  },
  {
   "cell_type": "code",
   "execution_count": 91,
   "id": "03037295",
   "metadata": {},
   "outputs": [],
   "source": [
    "#Hypertuning the model using GridSearchCV\n",
    "\n",
    "from sklearn.model_selection import GridSearchCV"
   ]
  },
  {
   "cell_type": "code",
   "execution_count": 98,
   "id": "40754eec",
   "metadata": {},
   "outputs": [],
   "source": [
    "#GridSearchCV for Random Forest Regressor\n",
    "\n",
    "param_grid = {'n_estimators': [10,30,50,70,100], 'max_depth': [None, 1, 2, 3], 'max_samples': [50,100,250,500,1000], \n",
    "              'min_samples_split': [2,4,10]}\n",
    "\n",
    "gscv_rfr = GridSearchCV(rfr, param_grid, cv = 3)"
   ]
  },
  {
   "cell_type": "code",
   "execution_count": 101,
   "id": "2a073e37",
   "metadata": {},
   "outputs": [],
   "source": [
    "# Fitting the model\n",
    "\n",
    "res = gscv_rfr.fit(X_train, y_train)"
   ]
  },
  {
   "cell_type": "code",
   "execution_count": 103,
   "id": "cbc3f308",
   "metadata": {},
   "outputs": [
    {
     "data": {
      "text/plain": [
       "{'max_depth': None,\n",
       " 'max_samples': 1000,\n",
       " 'min_samples_split': 2,\n",
       " 'n_estimators': 100}"
      ]
     },
     "execution_count": 103,
     "metadata": {},
     "output_type": "execute_result"
    }
   ],
   "source": [
    "# Checking out the best parameter\n",
    "\n",
    "res.best_params_"
   ]
  },
  {
   "cell_type": "code",
   "execution_count": 120,
   "id": "d9b5002d",
   "metadata": {},
   "outputs": [
    {
     "data": {
      "text/plain": [
       "0.8150666888236513"
      ]
     },
     "execution_count": 120,
     "metadata": {},
     "output_type": "execute_result"
    }
   ],
   "source": [
    "#Printing out the result achieved by the best parameter\n",
    "\n",
    "res.best_score_"
   ]
  },
  {
   "cell_type": "code",
   "execution_count": 113,
   "id": "bcfac7d2",
   "metadata": {},
   "outputs": [],
   "source": [
    "#GridSearchCV for Gradient Boosting Regressor\n",
    "\n",
    "param_grid_2 = {'alpha': [0.9,0.09,0.1], 'learning_rate':[0.1,0.01], 'max_depth': [3,4,5], 'min_samples_leaf': [1,2,3],\n",
    "               'min_samples_split': [2,3,4], 'n_estimators': [100,50,10]}"
   ]
  },
  {
   "cell_type": "code",
   "execution_count": 114,
   "id": "8154ca89",
   "metadata": {},
   "outputs": [],
   "source": [
    "gscv_gbr = GridSearchCV(gbr, param_grid_2, cv=3)"
   ]
  },
  {
   "cell_type": "code",
   "execution_count": 116,
   "id": "1d3ab31e",
   "metadata": {},
   "outputs": [],
   "source": [
    "#Fitiing the model\n",
    "\n",
    "res2 = gscv_gbr.fit(X_train, y_train)"
   ]
  },
  {
   "cell_type": "code",
   "execution_count": 117,
   "id": "986da83a",
   "metadata": {},
   "outputs": [
    {
     "data": {
      "text/plain": [
       "{'alpha': 0.9,\n",
       " 'learning_rate': 0.1,\n",
       " 'max_depth': 5,\n",
       " 'min_samples_leaf': 1,\n",
       " 'min_samples_split': 4,\n",
       " 'n_estimators': 100}"
      ]
     },
     "execution_count": 117,
     "metadata": {},
     "output_type": "execute_result"
    }
   ],
   "source": [
    "#Checking out the best parameter\n",
    "\n",
    "res2.best_params_"
   ]
  },
  {
   "cell_type": "code",
   "execution_count": 119,
   "id": "65d18136",
   "metadata": {},
   "outputs": [
    {
     "data": {
      "text/plain": [
       "0.8456124050012215"
      ]
     },
     "execution_count": 119,
     "metadata": {},
     "output_type": "execute_result"
    }
   ],
   "source": [
    "#Printing out the result achieved by the best parameter\n",
    "\n",
    "res2.best_score_"
   ]
  },
  {
   "cell_type": "code",
   "execution_count": 123,
   "id": "9d5dd289",
   "metadata": {},
   "outputs": [],
   "source": [
    "#We got our best model with a score of 84.5% (Gradient Boosting Regressor)\n",
    "#Saving it using best parameter and creating a model object using joblib\n",
    "\n",
    "model = GradientBoostingRegressor(alpha = 0.9, learning_rate = 0.1, max_depth = 5, min_samples_leaf = 1, min_samples_split = 4,\n",
    "                                 n_estimators = 100)\n"
   ]
  },
  {
   "cell_type": "code",
   "execution_count": 148,
   "id": "5e87a519",
   "metadata": {},
   "outputs": [
    {
     "data": {
      "text/plain": [
       "['flight_price.obj']"
      ]
     },
     "execution_count": 148,
     "metadata": {},
     "output_type": "execute_result"
    }
   ],
   "source": [
    "#Importing joblib library and storing our model in object named flight_price.obj\n",
    "\n",
    "import joblib\n",
    "\n",
    "joblib.dump(model, 'flight_price.obj')"
   ]
  },
  {
   "cell_type": "code",
   "execution_count": 136,
   "id": "49a5c0d1",
   "metadata": {},
   "outputs": [
    {
     "data": {
      "text/html": [
       "<div>\n",
       "<style scoped>\n",
       "    .dataframe tbody tr th:only-of-type {\n",
       "        vertical-align: middle;\n",
       "    }\n",
       "\n",
       "    .dataframe tbody tr th {\n",
       "        vertical-align: top;\n",
       "    }\n",
       "\n",
       "    .dataframe thead th {\n",
       "        text-align: right;\n",
       "    }\n",
       "</style>\n",
       "<table border=\"1\" class=\"dataframe\">\n",
       "  <thead>\n",
       "    <tr style=\"text-align: right;\">\n",
       "      <th></th>\n",
       "      <th>Actual</th>\n",
       "      <th>Predicted</th>\n",
       "    </tr>\n",
       "  </thead>\n",
       "  <tbody>\n",
       "    <tr>\n",
       "      <th>6041</th>\n",
       "      <td>3597.0</td>\n",
       "      <td>3804.404450</td>\n",
       "    </tr>\n",
       "    <tr>\n",
       "      <th>5637</th>\n",
       "      <td>3383.0</td>\n",
       "      <td>4020.716200</td>\n",
       "    </tr>\n",
       "    <tr>\n",
       "      <th>9644</th>\n",
       "      <td>2050.0</td>\n",
       "      <td>3231.028773</td>\n",
       "    </tr>\n",
       "    <tr>\n",
       "      <th>3159</th>\n",
       "      <td>4423.0</td>\n",
       "      <td>4207.168513</td>\n",
       "    </tr>\n",
       "    <tr>\n",
       "      <th>5278</th>\n",
       "      <td>3597.0</td>\n",
       "      <td>4061.426159</td>\n",
       "    </tr>\n",
       "    <tr>\n",
       "      <th>...</th>\n",
       "      <td>...</td>\n",
       "      <td>...</td>\n",
       "    </tr>\n",
       "    <tr>\n",
       "      <th>6821</th>\n",
       "      <td>13731.0</td>\n",
       "      <td>13882.662538</td>\n",
       "    </tr>\n",
       "    <tr>\n",
       "      <th>10518</th>\n",
       "      <td>9416.0</td>\n",
       "      <td>10618.466659</td>\n",
       "    </tr>\n",
       "    <tr>\n",
       "      <th>397</th>\n",
       "      <td>3597.0</td>\n",
       "      <td>3783.702023</td>\n",
       "    </tr>\n",
       "    <tr>\n",
       "      <th>9847</th>\n",
       "      <td>5277.0</td>\n",
       "      <td>5238.228357</td>\n",
       "    </tr>\n",
       "    <tr>\n",
       "      <th>1453</th>\n",
       "      <td>11410.0</td>\n",
       "      <td>9604.898594</td>\n",
       "    </tr>\n",
       "  </tbody>\n",
       "</table>\n",
       "<p>3205 rows × 2 columns</p>\n",
       "</div>"
      ],
      "text/plain": [
       "        Actual     Predicted\n",
       "6041    3597.0   3804.404450\n",
       "5637    3383.0   4020.716200\n",
       "9644    2050.0   3231.028773\n",
       "3159    4423.0   4207.168513\n",
       "5278    3597.0   4061.426159\n",
       "...        ...           ...\n",
       "6821   13731.0  13882.662538\n",
       "10518   9416.0  10618.466659\n",
       "397     3597.0   3783.702023\n",
       "9847    5277.0   5238.228357\n",
       "1453   11410.0   9604.898594\n",
       "\n",
       "[3205 rows x 2 columns]"
      ]
     },
     "execution_count": 136,
     "metadata": {},
     "output_type": "execute_result"
    }
   ],
   "source": [
    "#Predicting X_test on our best model and printing out the results side by side\n",
    "\n",
    "model = joblib.load('flight_price.obj')\n",
    "model.fit(X_train, y_train)\n",
    "pred = model.predict(X_test)\n",
    "\n",
    "predicted_values = pd.DataFrame({'Actual': y_test, 'Predicted': pred})\n",
    "predicted_values"
   ]
  },
  {
   "cell_type": "code",
   "execution_count": 152,
   "id": "bf9dd6b9",
   "metadata": {},
   "outputs": [],
   "source": [
    "#Predicting our best model on the new data (test data)\n",
    "\n",
    "flight_price = joblib.load('flight_price.obj')\n",
    "\n",
    "prices = flight_price.predict(df_test)"
   ]
  },
  {
   "cell_type": "code",
   "execution_count": 158,
   "id": "ba3c5e5c",
   "metadata": {},
   "outputs": [
    {
     "data": {
      "text/plain": [
       "array([14059.536814  ,  5470.02920794, 11532.88225686, ...,\n",
       "       16923.35919605, 14158.48020774,  9226.63359671])"
      ]
     },
     "execution_count": 158,
     "metadata": {},
     "output_type": "execute_result"
    }
   ],
   "source": [
    "#Printing out the predicted values\n",
    "\n",
    "prices"
   ]
  },
  {
   "cell_type": "code",
   "execution_count": 160,
   "id": "567f3c39",
   "metadata": {},
   "outputs": [
    {
     "data": {
      "text/html": [
       "<div>\n",
       "<style scoped>\n",
       "    .dataframe tbody tr th:only-of-type {\n",
       "        vertical-align: middle;\n",
       "    }\n",
       "\n",
       "    .dataframe tbody tr th {\n",
       "        vertical-align: top;\n",
       "    }\n",
       "\n",
       "    .dataframe thead th {\n",
       "        text-align: right;\n",
       "    }\n",
       "</style>\n",
       "<table border=\"1\" class=\"dataframe\">\n",
       "  <thead>\n",
       "    <tr style=\"text-align: right;\">\n",
       "      <th></th>\n",
       "      <th>Price</th>\n",
       "    </tr>\n",
       "  </thead>\n",
       "  <tbody>\n",
       "    <tr>\n",
       "      <th>0</th>\n",
       "      <td>14059.536814</td>\n",
       "    </tr>\n",
       "    <tr>\n",
       "      <th>1</th>\n",
       "      <td>5470.029208</td>\n",
       "    </tr>\n",
       "    <tr>\n",
       "      <th>2</th>\n",
       "      <td>11532.882257</td>\n",
       "    </tr>\n",
       "    <tr>\n",
       "      <th>3</th>\n",
       "      <td>10684.572294</td>\n",
       "    </tr>\n",
       "    <tr>\n",
       "      <th>4</th>\n",
       "      <td>3736.203885</td>\n",
       "    </tr>\n",
       "    <tr>\n",
       "      <th>...</th>\n",
       "      <td>...</td>\n",
       "    </tr>\n",
       "    <tr>\n",
       "      <th>2666</th>\n",
       "      <td>9405.328788</td>\n",
       "    </tr>\n",
       "    <tr>\n",
       "      <th>2667</th>\n",
       "      <td>4820.390114</td>\n",
       "    </tr>\n",
       "    <tr>\n",
       "      <th>2668</th>\n",
       "      <td>16923.359196</td>\n",
       "    </tr>\n",
       "    <tr>\n",
       "      <th>2669</th>\n",
       "      <td>14158.480208</td>\n",
       "    </tr>\n",
       "    <tr>\n",
       "      <th>2670</th>\n",
       "      <td>9226.633597</td>\n",
       "    </tr>\n",
       "  </tbody>\n",
       "</table>\n",
       "<p>2671 rows × 1 columns</p>\n",
       "</div>"
      ],
      "text/plain": [
       "             Price\n",
       "0     14059.536814\n",
       "1      5470.029208\n",
       "2     11532.882257\n",
       "3     10684.572294\n",
       "4      3736.203885\n",
       "...            ...\n",
       "2666   9405.328788\n",
       "2667   4820.390114\n",
       "2668  16923.359196\n",
       "2669  14158.480208\n",
       "2670   9226.633597\n",
       "\n",
       "[2671 rows x 1 columns]"
      ]
     },
     "execution_count": 160,
     "metadata": {},
     "output_type": "execute_result"
    }
   ],
   "source": [
    "#Converting the predicted values (array) into a dataframe\n",
    "\n",
    "price_list = pd.DataFrame({'Price': prices})\n",
    "price_list"
   ]
  }
 ],
 "metadata": {
  "kernelspec": {
   "display_name": "Python 3 (ipykernel)",
   "language": "python",
   "name": "python3"
  },
  "language_info": {
   "codemirror_mode": {
    "name": "ipython",
    "version": 3
   },
   "file_extension": ".py",
   "mimetype": "text/x-python",
   "name": "python",
   "nbconvert_exporter": "python",
   "pygments_lexer": "ipython3",
   "version": "3.10.9"
  }
 },
 "nbformat": 4,
 "nbformat_minor": 5
}
